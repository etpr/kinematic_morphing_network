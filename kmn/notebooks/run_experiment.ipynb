{
 "cells": [
  {
   "cell_type": "code",
   "execution_count": 1,
   "metadata": {
    "collapsed": false
   },
   "outputs": [
    {
     "name": "stderr",
     "output_type": "stream",
     "text": [
      "Using TensorFlow backend.\n"
     ]
    }
   ],
   "source": [
    "import matplotlib as mpl\n",
    "import os\n",
    "if 'DISPLAY' not in os.environ:\n",
    "    mpl.use('Pdf')\n",
    "from kmn.util import split_test_train_data\n",
    "from kmn.tf_util import init_cfg\n",
    "from kmn.dataset_generator import DatasetGenerator\n",
    "from kmn.kmn_model import KmnModel, KmnMultiModel\n",
    "from kmn.kmn_model_conf import KmnModelConf, KmnMultiModelConf\n",
    "from kmn.model_evaluation import evaluate_model\n",
    "import numpy as np\n",
    "mpl.rcParams['figure.facecolor'] = 'w'\n",
    "mpl.rcParams['figure.figsize'] = [12.0, 6.0]\n",
    "%load_ext autoreload\n",
    "%autoreload 2"
   ]
  },
  {
   "cell_type": "code",
   "execution_count": 2,
   "metadata": {
    "collapsed": false
   },
   "outputs": [
    {
     "name": "stdout",
     "output_type": "stream",
     "text": [
      "descr  : \nlog dir: /Users/englerpr/git/kinematic_morphing_networks/kmn/scenes/box/logs/basic_s-8d3_0725_1136/\nscene  : box\ncfg    : basic_s-8d3_0725_1136\ndata   : Transformation\nmodel  : conv_basic\nparam  : ['xy scaling' '-']\n80  data points for testing\n20  data points for training\n_________________________________________________________________\nLayer (type)                 Output Shape              Param #   \n=================================================================\nI (InputLayer)               (None, 12288)             0         \n_________________________________________________________________\nIm (Reshape)                 (None, 96, 128, 1)        0         \n_________________________________________________________________\nScaling (Lambda)             (None, 96, 128, 1)        0         \n_________________________________________________________________\nconv1 (Conv2D)               (None, 96, 128, 2)        20        \n_________________________________________________________________\nmax_pooling2d_1 (MaxPooling2 (None, 48, 64, 2)         0         \n_________________________________________________________________\nconv2 (Conv2D)               (None, 48, 64, 2)         38        \n_________________________________________________________________\nmax_pooling2d_2 (MaxPooling2 (None, 24, 32, 2)         0         \n_________________________________________________________________\nconv3 (Conv2D)               (None, 24, 32, 1)         19        \n_________________________________________________________________\nmax_pooling2d_3 (MaxPooling2 (None, 12, 16, 1)         0         \n_________________________________________________________________\nconv4 (Conv2D)               (None, 12, 16, 1)         10        \n_________________________________________________________________\nmax_pooling2d_4 (MaxPooling2 (None, 6, 8, 1)           0         \n_________________________________________________________________\nconv5 (Conv2D)               (None, 6, 8, 1)           10        \n_________________________________________________________________\nmax_pooling2d_5 (MaxPooling2 (None, 3, 4, 1)           0         \n_________________________________________________________________\nx (Reshape)                  (None, 12)                0         \n_________________________________________________________________\nE (Dense)                    (None, 1)                 13        \n=================================================================\nTotal params: 110\nTrainable params: 110\nNon-trainable params: 0\n_________________________________________________________________\n"
     ]
    }
   ],
   "source": [
    "# define cfg file that specifies all run parameters\n",
    "cfg_name = \"kmn/scenes/box/cfgs/basic\"\n",
    "cfg = init_cfg(cfg_name)\n",
    "\n",
    "# generate + load dataset \n",
    "dg = DatasetGenerator(cfg)\n",
    "dg.create_dataset()\n",
    "[x_train, y_train, x_test, y_test] = dg.load_dataset(small=cfg['DEBUG'])\n",
    "\n",
    "# load KMN model type\n",
    "if cfg['N_CONF'] > 0:\n",
    "    if cfg['MULTI_MODEL']:\n",
    "        m = KmnMultiModelConf(cfg)\n",
    "    else:\n",
    "        m = KmnModelConf(cfg)\n",
    "else:\n",
    "    if cfg['MULTI_MODEL']:\n",
    "        m = KmnMultiModel(cfg)\n",
    "    else:\n",
    "        m = KmnModel(cfg)\n"
   ]
  },
  {
   "cell_type": "code",
   "execution_count": 3,
   "metadata": {
    "collapsed": false
   },
   "outputs": [
    {
     "name": "stdout",
     "output_type": "stream",
     "text": [
      "### i_pred:  0\n"
     ]
    },
    {
     "name": "stdout",
     "output_type": "stream",
     "text": [
      "Train on 80 samples, validate on 20 samples\n"
     ]
    },
    {
     "name": "stdout",
     "output_type": "stream",
     "text": [
      "Epoch 1/12\n"
     ]
    },
    {
     "name": "stdout",
     "output_type": "stream",
     "text": [
      "\r80/80 [==============================] - 0s - loss: 0.0944 - mean_absolute_error: 0.2734 - val_loss: 0.1192 - val_mean_absolute_error: 0.3263"
     ]
    },
    {
     "name": "stdout",
     "output_type": "stream",
     "text": [
      "\nEpoch 2/12\n\r80/80 [==============================] - 0s - loss: 0.0941 - mean_absolute_error: 0.2730 - val_loss: 0.1189 - val_mean_absolute_error: 0.3259"
     ]
    },
    {
     "name": "stdout",
     "output_type": "stream",
     "text": [
      "\nEpoch 3/12\n"
     ]
    },
    {
     "name": "stdout",
     "output_type": "stream",
     "text": [
      "\r80/80 [==============================] - 0s - loss: 0.0939 - mean_absolute_error: 0.2726 - val_loss: 0.1188 - val_mean_absolute_error: 0.3257"
     ]
    },
    {
     "name": "stdout",
     "output_type": "stream",
     "text": [
      "\nEpoch 4/12\n"
     ]
    },
    {
     "name": "stdout",
     "output_type": "stream",
     "text": [
      "\r80/80 [==============================] - 0s - loss: 0.0937 - mean_absolute_error: 0.2723 - val_loss: 0.1186 - val_mean_absolute_error: 0.3255"
     ]
    },
    {
     "name": "stdout",
     "output_type": "stream",
     "text": [
      "\nEpoch 5/12\n\r80/80 [==============================] - 0s - loss: 0.0937 - mean_absolute_error: 0.2722 - val_loss: 0.1185 - val_mean_absolute_error: 0.3253"
     ]
    },
    {
     "name": "stdout",
     "output_type": "stream",
     "text": [
      "\nEpoch 6/12\n"
     ]
    },
    {
     "name": "stdout",
     "output_type": "stream",
     "text": [
      "\r80/80 [==============================] - 0s - loss: 0.0936 - mean_absolute_error: 0.2720 - val_loss: 0.1184 - val_mean_absolute_error: 0.3251"
     ]
    },
    {
     "name": "stdout",
     "output_type": "stream",
     "text": [
      "\nEpoch 7/12\n"
     ]
    },
    {
     "name": "stdout",
     "output_type": "stream",
     "text": [
      "\r80/80 [==============================] - 0s - loss: 0.0935 - mean_absolute_error: 0.2719 - val_loss: 0.1183 - val_mean_absolute_error: 0.3249"
     ]
    },
    {
     "name": "stdout",
     "output_type": "stream",
     "text": [
      "\nEpoch 8/12\n"
     ]
    },
    {
     "name": "stdout",
     "output_type": "stream",
     "text": [
      "\r80/80 [==============================] - 0s - loss: 0.0935 - mean_absolute_error: 0.2717 - val_loss: 0.1182 - val_mean_absolute_error: 0.3247"
     ]
    },
    {
     "name": "stdout",
     "output_type": "stream",
     "text": [
      "\nEpoch 9/12\n"
     ]
    },
    {
     "name": "stdout",
     "output_type": "stream",
     "text": [
      "\r80/80 [==============================] - 0s - loss: 0.0934 - mean_absolute_error: 0.2716 - val_loss: 0.1181 - val_mean_absolute_error: 0.3245"
     ]
    },
    {
     "name": "stdout",
     "output_type": "stream",
     "text": [
      "\nEpoch 10/12\n"
     ]
    },
    {
     "name": "stdout",
     "output_type": "stream",
     "text": [
      "\r80/80 [==============================] - 0s - loss: 0.0933 - mean_absolute_error: 0.2714 - val_loss: 0.1180 - val_mean_absolute_error: 0.3243"
     ]
    },
    {
     "name": "stdout",
     "output_type": "stream",
     "text": [
      "\nEpoch 11/12\n"
     ]
    },
    {
     "name": "stdout",
     "output_type": "stream",
     "text": [
      "\r80/80 [==============================] - 0s - loss: 0.0933 - mean_absolute_error: 0.2713 - val_loss: 0.1178 - val_mean_absolute_error: 0.3241"
     ]
    },
    {
     "name": "stdout",
     "output_type": "stream",
     "text": [
      "\nEpoch 12/12\n"
     ]
    },
    {
     "name": "stdout",
     "output_type": "stream",
     "text": [
      "\r80/80 [==============================] - 0s - loss: 0.0932 - mean_absolute_error: 0.2712 - val_loss: 0.1177 - val_mean_absolute_error: 0.3239"
     ]
    },
    {
     "name": "stdout",
     "output_type": "stream",
     "text": [
      "\n"
     ]
    },
    {
     "name": "stdout",
     "output_type": "stream",
     "text": [
      "\nEvaluation on Train set\n\r[                                                                                                    ] 0%"
     ]
    },
    {
     "name": "stdout",
     "output_type": "stream",
     "text": [
      "\r[...........                                                                                         ] 11%"
     ]
    },
    {
     "name": "stdout",
     "output_type": "stream",
     "text": [
      "\r[......................                                                                              ] 22%"
     ]
    },
    {
     "name": "stdout",
     "output_type": "stream",
     "text": [
      "\r[.................................                                                                   ] 33%"
     ]
    },
    {
     "name": "stdout",
     "output_type": "stream",
     "text": [
      "\r[............................................                                                        ] 44%"
     ]
    },
    {
     "name": "stdout",
     "output_type": "stream",
     "text": [
      "\r[.......................................................                                             ] 55%"
     ]
    },
    {
     "ename": "KeyboardInterrupt",
     "evalue": "",
     "traceback": [
      "\u001b[0;31m---------------------------------------------------------------------------\u001b[0m",
      "\u001b[0;31mKeyboardInterrupt\u001b[0m                         Traceback (most recent call last)",
      "\u001b[0;32m<ipython-input-3-af354f3c19df>\u001b[0m in \u001b[0;36m<module>\u001b[0;34m()\u001b[0m\n\u001b[1;32m     25\u001b[0m         \u001b[0mm\u001b[0m\u001b[0;34m.\u001b[0m\u001b[0mload_model\u001b[0m\u001b[0;34m(\u001b[0m\u001b[0;34m)\u001b[0m\u001b[0;34m\u001b[0m\u001b[0m\n\u001b[1;32m     26\u001b[0m         \u001b[0;31m# eval current network\u001b[0m\u001b[0;34m\u001b[0m\u001b[0;34m\u001b[0m\u001b[0m\n\u001b[0;32m---> 27\u001b[0;31m         \u001b[0mevaluate_model\u001b[0m\u001b[0;34m(\u001b[0m\u001b[0mm\u001b[0m\u001b[0;34m,\u001b[0m \u001b[0mcfg\u001b[0m\u001b[0;34m,\u001b[0m \u001b[0mx_train\u001b[0m\u001b[0;34m,\u001b[0m \u001b[0my_train\u001b[0m\u001b[0;34m,\u001b[0m \u001b[0mx_test\u001b[0m\u001b[0;34m,\u001b[0m \u001b[0my_test\u001b[0m\u001b[0;34m)\u001b[0m\u001b[0;34m\u001b[0m\u001b[0m\n\u001b[0m\u001b[1;32m     28\u001b[0m         \u001b[0;31m# generate new training data with model predictions\u001b[0m\u001b[0;34m\u001b[0m\u001b[0;34m\u001b[0m\u001b[0m\n\u001b[1;32m     29\u001b[0m         \u001b[0mx_train_aug\u001b[0m\u001b[0;34m,\u001b[0m \u001b[0my_train_aug\u001b[0m \u001b[0;34m=\u001b[0m \u001b[0mm\u001b[0m\u001b[0;34m.\u001b[0m\u001b[0maugment_dataset\u001b[0m\u001b[0;34m(\u001b[0m\u001b[0mx\u001b[0m\u001b[0;34m=\u001b[0m\u001b[0mx_train\u001b[0m\u001b[0;34m,\u001b[0m \u001b[0my\u001b[0m\u001b[0;34m=\u001b[0m\u001b[0my_train\u001b[0m\u001b[0;34m,\u001b[0m \u001b[0mn_pred\u001b[0m\u001b[0;34m=\u001b[0m\u001b[0mi_pred\u001b[0m \u001b[0;34m+\u001b[0m \u001b[0;36m1\u001b[0m\u001b[0;34m)\u001b[0m\u001b[0;34m\u001b[0m\u001b[0m\n",
      "\u001b[0;32m~/git/kinematic_morphing_networks/kmn/model_evaluation.py\u001b[0m in \u001b[0;36mevaluate_model\u001b[0;34m(model, c, x_train, y_train, x_test, y_test, i_pred, show_plots)\u001b[0m\n\u001b[1;32m     70\u001b[0m \u001b[0;34m\u001b[0m\u001b[0m\n\u001b[1;32m     71\u001b[0m             \u001b[0mparam\u001b[0m\u001b[0;34m,\u001b[0m \u001b[0mD\u001b[0m\u001b[0;34m,\u001b[0m \u001b[0mP\u001b[0m\u001b[0;34m,\u001b[0m \u001b[0mD_hist\u001b[0m\u001b[0;34m,\u001b[0m \u001b[0mparam_hist\u001b[0m\u001b[0;34m,\u001b[0m \u001b[0my_hist\u001b[0m \u001b[0;34m=\u001b[0m\u001b[0;31m \u001b[0m\u001b[0;31m\\\u001b[0m\u001b[0;34m\u001b[0m\u001b[0m\n\u001b[0;32m---> 72\u001b[0;31m                 \u001b[0mmodel\u001b[0m\u001b[0;34m.\u001b[0m\u001b[0mmulti_step_pred\u001b[0m\u001b[0;34m(\u001b[0m\u001b[0mD\u001b[0m\u001b[0;34m=\u001b[0m\u001b[0mx\u001b[0m\u001b[0;34m,\u001b[0m \u001b[0mP\u001b[0m\u001b[0;34m=\u001b[0m\u001b[0mP\u001b[0m\u001b[0;34m,\u001b[0m \u001b[0mn_pred\u001b[0m\u001b[0;34m=\u001b[0m\u001b[0mn_pred\u001b[0m\u001b[0;34m,\u001b[0m \u001b[0mreturn_hist\u001b[0m\u001b[0;34m=\u001b[0m\u001b[0;32mTrue\u001b[0m\u001b[0;34m)\u001b[0m\u001b[0;34m\u001b[0m\u001b[0m\n\u001b[0m\u001b[1;32m     73\u001b[0m \u001b[0;34m\u001b[0m\u001b[0m\n\u001b[1;32m     74\u001b[0m             \u001b[0;31m# compute error\u001b[0m\u001b[0;34m\u001b[0m\u001b[0;34m\u001b[0m\u001b[0m\n",
      "\u001b[0;32m~/git/kinematic_morphing_networks/kmn/kmn_model.py\u001b[0m in \u001b[0;36mmulti_step_pred\u001b[0;34m(self, D, P, n_pred, return_hist)\u001b[0m\n\u001b[1;32m    104\u001b[0m             \u001b[0mT\u001b[0m \u001b[0;34m=\u001b[0m \u001b[0mself\u001b[0m\u001b[0;34m.\u001b[0m\u001b[0mscene\u001b[0m\u001b[0;34m.\u001b[0m\u001b[0mparam_to_trans\u001b[0m\u001b[0;34m(\u001b[0m\u001b[0mparam\u001b[0m\u001b[0;34m)\u001b[0m\u001b[0;34m\u001b[0m\u001b[0m\n\u001b[1;32m    105\u001b[0m             \u001b[0mT_inv\u001b[0m \u001b[0;34m=\u001b[0m \u001b[0minvert_trans\u001b[0m\u001b[0;34m(\u001b[0m\u001b[0mT\u001b[0m\u001b[0;34m)\u001b[0m\u001b[0;34m\u001b[0m\u001b[0m\n\u001b[0;32m--> 106\u001b[0;31m             \u001b[0mD\u001b[0m\u001b[0;34m,\u001b[0m \u001b[0mP\u001b[0m \u001b[0;34m=\u001b[0m \u001b[0mapply_prediction\u001b[0m\u001b[0;34m(\u001b[0m\u001b[0mself\u001b[0m\u001b[0;34m.\u001b[0m\u001b[0mc\u001b[0m\u001b[0;34m,\u001b[0m \u001b[0mP\u001b[0m\u001b[0;34m,\u001b[0m \u001b[0mT_inv\u001b[0m\u001b[0;34m)\u001b[0m  \u001b[0;31m# transform pointcloud and render a new depth image\u001b[0m\u001b[0;34m\u001b[0m\u001b[0m\n\u001b[0m\u001b[1;32m    107\u001b[0m             \u001b[0mT_pred\u001b[0m \u001b[0;34m=\u001b[0m \u001b[0mnp\u001b[0m\u001b[0;34m.\u001b[0m\u001b[0mmatmul\u001b[0m\u001b[0;34m(\u001b[0m\u001b[0mT_pred\u001b[0m\u001b[0;34m,\u001b[0m \u001b[0mT\u001b[0m\u001b[0;34m)\u001b[0m  \u001b[0;31m# concatenate transformations\u001b[0m\u001b[0;34m\u001b[0m\u001b[0m\n\u001b[1;32m    108\u001b[0m             \u001b[0;32mif\u001b[0m \u001b[0mreturn_hist\u001b[0m\u001b[0;34m:\u001b[0m  \u001b[0;31m# book keeping\u001b[0m\u001b[0;34m\u001b[0m\u001b[0m\n",
      "\u001b[0;32m~/git/kinematic_morphing_networks/kmn/tf_util.py\u001b[0m in \u001b[0;36mapply_prediction\u001b[0;34m(c, P, T)\u001b[0m\n\u001b[1;32m    138\u001b[0m     \"\"\"\n\u001b[1;32m    139\u001b[0m     \u001b[0mP_pred\u001b[0m \u001b[0;34m=\u001b[0m \u001b[0mtransform_pointcloud\u001b[0m\u001b[0;34m(\u001b[0m\u001b[0mT\u001b[0m\u001b[0;34m,\u001b[0m \u001b[0mP\u001b[0m\u001b[0;34m)\u001b[0m  \u001b[0;31m# apply transformation on point cloud\u001b[0m\u001b[0;34m\u001b[0m\u001b[0m\n\u001b[0;32m--> 140\u001b[0;31m     \u001b[0mD_pred\u001b[0m \u001b[0;34m=\u001b[0m \u001b[0mrender_depth_image\u001b[0m\u001b[0;34m.\u001b[0m\u001b[0mf\u001b[0m\u001b[0;34m(\u001b[0m\u001b[0mP_pred\u001b[0m\u001b[0;34m,\u001b[0m \u001b[0mc\u001b[0m\u001b[0;34m[\u001b[0m\u001b[0;34m'T_CAM_WORLD'\u001b[0m\u001b[0;34m]\u001b[0m\u001b[0;34m,\u001b[0m \u001b[0mc\u001b[0m\u001b[0;34m[\u001b[0m\u001b[0;34m'CAM_PARAM'\u001b[0m\u001b[0;34m]\u001b[0m\u001b[0;34m)\u001b[0m  \u001b[0;31m# render a depth image\u001b[0m\u001b[0;34m\u001b[0m\u001b[0m\n\u001b[0m\u001b[1;32m    141\u001b[0m     \u001b[0mD_pred\u001b[0m \u001b[0;34m=\u001b[0m \u001b[0mresize_image\u001b[0m\u001b[0;34m(\u001b[0m\u001b[0mD_pred\u001b[0m\u001b[0;34m,\u001b[0m \u001b[0mc\u001b[0m\u001b[0;34m[\u001b[0m\u001b[0;34m'WIDTH'\u001b[0m\u001b[0;34m]\u001b[0m\u001b[0;34m,\u001b[0m \u001b[0mc\u001b[0m\u001b[0;34m[\u001b[0m\u001b[0;34m'HEIGHT'\u001b[0m\u001b[0;34m]\u001b[0m\u001b[0;34m)\u001b[0m\u001b[0;34m\u001b[0m\u001b[0m\n\u001b[1;32m    142\u001b[0m     \u001b[0;32mreturn\u001b[0m \u001b[0mD_pred\u001b[0m\u001b[0;34m,\u001b[0m \u001b[0mP_pred\u001b[0m\u001b[0;34m\u001b[0m\u001b[0m\n",
      "\u001b[0;32m~/git/kinematic_morphing_networks/kmn/render_depth_image.py\u001b[0m in \u001b[0;36mf\u001b[0;34m(P, T_c_w, cam_param)\u001b[0m\n\u001b[1;32m     55\u001b[0m     \u001b[0;32mfor\u001b[0m \u001b[0mi\u001b[0m \u001b[0;32min\u001b[0m \u001b[0mrange\u001b[0m\u001b[0;34m(\u001b[0m\u001b[0midx_sort\u001b[0m\u001b[0;34m.\u001b[0m\u001b[0msize\u001b[0m\u001b[0;34m)\u001b[0m\u001b[0;34m:\u001b[0m\u001b[0;34m\u001b[0m\u001b[0m\n\u001b[1;32m     56\u001b[0m         \u001b[0mj\u001b[0m \u001b[0;34m=\u001b[0m \u001b[0midx_sort\u001b[0m\u001b[0;34m[\u001b[0m\u001b[0mi\u001b[0m\u001b[0;34m]\u001b[0m\u001b[0;34m\u001b[0m\u001b[0m\n\u001b[0;32m---> 57\u001b[0;31m         \u001b[0mD\u001b[0m\u001b[0;34m[\u001b[0m\u001b[0mC_idx\u001b[0m\u001b[0;34m[\u001b[0m\u001b[0mj\u001b[0m\u001b[0;34m,\u001b[0m \u001b[0;36m0\u001b[0m\u001b[0;34m]\u001b[0m\u001b[0;34m,\u001b[0m \u001b[0mC_idx\u001b[0m\u001b[0;34m[\u001b[0m\u001b[0mj\u001b[0m\u001b[0;34m,\u001b[0m \u001b[0;36m1\u001b[0m\u001b[0;34m]\u001b[0m\u001b[0;34m]\u001b[0m \u001b[0;34m=\u001b[0m \u001b[0md\u001b[0m\u001b[0;34m[\u001b[0m\u001b[0mj\u001b[0m\u001b[0;34m]\u001b[0m\u001b[0;34m\u001b[0m\u001b[0m\n\u001b[0m\u001b[1;32m     58\u001b[0m \u001b[0;34m\u001b[0m\u001b[0m\n\u001b[1;32m     59\u001b[0m     \u001b[0;31m# rotate image -90 degree\u001b[0m\u001b[0;34m\u001b[0m\u001b[0;34m\u001b[0m\u001b[0m\n",
      "\u001b[0;31mKeyboardInterrupt\u001b[0m: "
     ],
     "output_type": "error"
    }
   ],
   "source": [
    "x_train_full = np.copy(x_train)\n",
    "y_train_full = np.copy(y_train)\n",
    "x_test_full = np.copy(x_test)\n",
    "y_test_full = np.copy(y_test)\n",
    "\n",
    "# iterate over number of predictions\n",
    "for i_pred in range(cfg['N_PRED']):\n",
    "    print(\"### i_pred: \", i_pred)\n",
    "    cfg['LOG_PREFIX'] = str(i_pred) + \"/\"\n",
    "    if cfg['MULTI_MODEL']:                        \n",
    "        # train network\n",
    "        m.train(x_train=x_train_full, y_train=y_train_full, x_test=x_test_full, y_test=y_test_full,\n",
    "                i_pred=i_pred)\n",
    "        # load best weights\n",
    "        m.load_model(i_pred=i_pred)\n",
    "        # eval current network\n",
    "        evaluate_model(m, cfg, x_train, y_train, x_test, y_test, i_pred) \n",
    "        # generate new training data with model predictions\n",
    "        x_train_full, y_train_full = m.augment_dataset(x=x_train, y=y_train, n_pred=i_pred + 1)\n",
    "        x_train_full, y_train_full, x_test_full, y_test_full = \\\n",
    "            split_test_train_data(x_train_full, y_train_full)\n",
    "    else:\n",
    "        # train network\n",
    "        m.train(x_train=x_train_full, y_train=y_train_full, x_test=x_test_full, y_test=y_test_full)\n",
    "        # load best weights\n",
    "        m.load_model()\n",
    "        # eval current network\n",
    "        evaluate_model(m, cfg, x_train, y_train, x_test, y_test)\n",
    "        # generate new training data with model predictions\n",
    "        x_train_aug, y_train_aug = m.augment_dataset(x=x_train, y=y_train, n_pred=i_pred + 1)\n",
    "        x_train_full = np.vstack([x_train_full, x_train_aug])\n",
    "        y_train_full = np.vstack([y_train_full, y_train_aug])"
   ]
  },
  {
   "cell_type": "code",
   "execution_count": 4,
   "metadata": {},
   "outputs": [],
   "source": []
  }
 ],
 "metadata": {
  "kernelspec": {
   "display_name": "Python 2",
   "language": "python",
   "name": "python2"
  },
  "language_info": {
   "codemirror_mode": {
    "name": "ipython",
    "version": 2
   },
   "file_extension": ".py",
   "mimetype": "text/x-python",
   "name": "python",
   "nbconvert_exporter": "python",
   "pygments_lexer": "ipython2",
   "version": "2.7.6"
  }
 },
 "nbformat": 4,
 "nbformat_minor": 0
}
