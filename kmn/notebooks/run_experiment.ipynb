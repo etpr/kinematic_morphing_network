{
 "cells": [
  {
   "cell_type": "code",
   "execution_count": 1,
   "metadata": {
    "collapsed": false
   },
   "outputs": [],
   "source": [
    "import matplotlib as mpl\n",
    "import os\n",
    "if 'DISPLAY' not in os.environ:\n",
    "    mpl.use('Pdf')\n",
    "from kmn.util import split_test_train_data\n",
    "from kmn.tf_util import init_cfg\n",
    "from kmn.dataset_generator import DatasetGenerator\n",
    "from kmn.kmn_model import KmnModel, KmnMultiModel\n",
    "from kmn.kmn_model_conf import KmnModelConf, KmnMultiModelConf\n",
    "from kmn.model_evaluation import evaluate_model\n",
    "import numpy as np\n",
    "mpl.rcParams['figure.facecolor'] = 'w'\n",
    "mpl.rcParams['figure.figsize'] = [12.0, 6.0]\n",
    "%load_ext autoreload\n",
    "%autoreload 2"
   ]
  },
  {
   "cell_type": "code",
   "execution_count": 1,
   "metadata": {
    "collapsed": false
   },
   "outputs": [],
   "source": [
    "# define cfg file that specifies all run parameters\n",
    "cfg_name = \"kmn/scenes/box/cfgs/basic\"\n",
    "cfg = init_cfg(cfg_name)\n",
    "\n",
    "# generate + load dataset \n",
    "dg = DatasetGenerator(cfg)\n",
    "dg.create_dataset()\n",
    "[x_train, y_train, x_test, y_test] = dg.load_dataset(small=cfg['DEBUG'])\n",
    "\n",
    "# load KMN model type\n",
    "if cfg['N_CONF'] > 0:\n",
    "    if cfg['MULTI_MODEL']:\n",
    "        m = KmnMultiModelConf(cfg)\n",
    "    else:\n",
    "        m = KmnModelConf(cfg)\n",
    "else:\n",
    "    if cfg['MULTI_MODEL']:\n",
    "        m = KmnMultiModel(cfg)\n",
    "    else:\n",
    "        m = KmnModel(cfg)"
   ]
  },
  {
   "cell_type": "code",
   "execution_count": 1,
   "metadata": {
    "collapsed": false
   },
   "outputs": [],
   "source": [
    "x_train_full = np.copy(x_train)\n",
    "y_train_full = np.copy(y_train)\n",
    "x_test_full = np.copy(x_test)\n",
    "y_test_full = np.copy(y_test)\n",
    "\n",
    "# iterate over number of predictions\n",
    "for i_pred in range(cfg['N_PRED']):\n",
    "    print(\"### i_pred: \", i_pred)\n",
    "    cfg['LOG_PREFIX'] = str(i_pred) + \"/\"\n",
    "    if cfg['MULTI_MODEL']:                        \n",
    "        # train network\n",
    "        m.train(x_train=x_train_full, y_train=y_train_full, x_test=x_test_full, y_test=y_test_full,\n",
    "                i_pred=i_pred)\n",
    "        # load best weights\n",
    "        m.load_model(i_pred=i_pred)\n",
    "        # eval current network\n",
    "        evaluate_model(m, cfg, x_train, y_train, x_test, y_test, i_pred) \n",
    "        # generate new training data with model predictions\n",
    "        x_train_full, y_train_full = m.augment_dataset(x=x_train, y=y_train, n_pred=i_pred + 1)\n",
    "        x_train_full, y_train_full, x_test_full, y_test_full = \\\n",
    "            split_test_train_data(x_train_full, y_train_full)\n",
    "    else:\n",
    "        # train network\n",
    "        m.train(x_train=x_train_full, y_train=y_train_full, x_test=x_test_full, y_test=y_test_full)\n",
    "        # load best weights\n",
    "        m.load_model()\n",
    "        # eval current network\n",
    "        evaluate_model(m, cfg, x_train, y_train, x_test, y_test)\n",
    "        # generate new training data with model predictions\n",
    "        x_train_aug, y_train_aug = m.augment_dataset(x=x_train, y=y_train, n_pred=i_pred + 1)\n",
    "        x_train_full = np.vstack([x_train_full, x_train_aug])\n",
    "        y_train_full = np.vstack([y_train_full, y_train_aug])"
   ]
  },
  {
   "cell_type": "code",
   "execution_count": 4,
   "metadata": {},
   "outputs": [],
   "source": []
  }
 ],
 "metadata": {
  "kernelspec": {
   "display_name": "Python 2",
   "language": "python",
   "name": "python2"
  },
  "language_info": {
   "codemirror_mode": {
    "name": "ipython",
    "version": 2
   },
   "file_extension": ".py",
   "mimetype": "text/x-python",
   "name": "python",
   "nbconvert_exporter": "python",
   "pygments_lexer": "ipython2",
   "version": "2.7.6"
  }
 },
 "nbformat": 4,
 "nbformat_minor": 0
}
